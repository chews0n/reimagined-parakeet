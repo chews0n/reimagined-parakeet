{
 "cells": [
  {
   "cell_type": "code",
   "execution_count": 95,
   "metadata": {},
   "outputs": [
    {
     "name": "stdout",
     "output_type": "stream",
     "text": [
      "1.19.2\n"
     ]
    },
    {
     "data": {
      "text/plain": [
       "'1.19.2'"
      ]
     },
     "execution_count": 95,
     "metadata": {},
     "output_type": "execute_result"
    }
   ],
   "source": [
    "# Write a Python program to print the NumPy version in your system.\n",
    "import numpy as np\n",
    "print(np.version.version)\n",
    "np.__version__\n"
   ]
  },
  {
   "cell_type": "code",
   "execution_count": 51,
   "metadata": {},
   "outputs": [
    {
     "name": "stdout",
     "output_type": "stream",
     "text": [
      "[[0 1]\n",
      " [2 3]\n",
      " [4 5]\n",
      " [6 7]\n",
      " [8 9]]\n"
     ]
    },
    {
     "data": {
      "text/plain": [
       "array([[8, 9],\n",
       "       [6, 7],\n",
       "       [4, 5],\n",
       "       [2, 3],\n",
       "       [0, 1]])"
      ]
     },
     "execution_count": 51,
     "metadata": {},
     "output_type": "execute_result"
    }
   ],
   "source": [
    "# Write a Python program to reverse an array (first element becomes last).\n",
    "arr1 = np.arange(10).reshape((5,2))\n",
    "print(arr1)\n",
    "\n",
    "arr_rev = np.flip(arr1, axis = 0)\n",
    "arr_rev"
   ]
  },
  {
   "cell_type": "code",
   "execution_count": 37,
   "metadata": {},
   "outputs": [
    {
     "name": "stdout",
     "output_type": "stream",
     "text": [
      "[ 1  1  3  3 10 10]\n",
      "[ 2  2  3  3 12 12]\n"
     ]
    }
   ],
   "source": [
    "# Write a Python program to convert a list and tuple into arrays.\n",
    "\n",
    "def convert_list_to_array(a_list):\n",
    "    return np.array(a_list)\n",
    "\n",
    "l1 = [1,1,3,3,10,10]\n",
    "print(convert_list_to_array(l1))\n",
    "\n",
    "def convert_tuple_to_array(a_tuple):\n",
    "    return np.array(a_tuple)\n",
    "\n",
    "tuple_1 = (2,2,3,3,12,12)\n",
    "print(convert_tuple_to_array(tuple_1))"
   ]
  },
  {
   "cell_type": "code",
   "execution_count": 32,
   "metadata": {},
   "outputs": [
    {
     "name": "stdout",
     "output_type": "stream",
     "text": [
      "[ 5 10 15 20 25 30]\n",
      "[10 20 30 40 50]\n",
      "[10 20 30]\n"
     ]
    }
   ],
   "source": [
    "# Write a Python program to find common values between two arrays.\n",
    "arr1 = np.arange(5,31,5)\n",
    "arr2 = np.arange(10,51,10)\n",
    "\n",
    "print(arr1)\n",
    "print(arr2)\n",
    "\n",
    "common_values = np.intersect1d(arr1, arr2)\n",
    "print(common_values)"
   ]
  },
  {
   "cell_type": "code",
   "execution_count": 34,
   "metadata": {},
   "outputs": [
    {
     "name": "stdout",
     "output_type": "stream",
     "text": [
      "True\n",
      "True\n"
     ]
    }
   ],
   "source": [
    "# Write a Python program compare two arrays using numpy.\n",
    "arr1 = np.arange(2,11,2)\n",
    "arr2 = np.array([2,4,6,8,10])\n",
    "\n",
    "print((arr1 == arr2).all())\n",
    "\n",
    "print(np.array_equal(arr1,arr2))"
   ]
  },
  {
   "cell_type": "code",
   "execution_count": 83,
   "metadata": {},
   "outputs": [
    {
     "name": "stdout",
     "output_type": "stream",
     "text": [
      "[ 1  2  3  4  5  6  7  8  9 10 11 12 13 14 15]\n",
      "1\n",
      "[[ 1  2  3  4  5]\n",
      " [ 6  7  8  9 10]\n",
      " [11 12 13 14 15]]\n",
      "2\n",
      "(3, 5)\n"
     ]
    }
   ],
   "source": [
    "# Write a Python program to change the dimension of an array.\n",
    "import numpy as np\n",
    "\n",
    "arr1 = np.arange(1,16)\n",
    "print(arr1)\n",
    "print(np.ndim(arr1))\n",
    "\n",
    "arr1 = np.reshape(arr1, (3,5))\n",
    "print(arr1)\n",
    "print(np.ndim(arr1))\n",
    "\n",
    "print(np.shape(arr1))"
   ]
  },
  {
   "cell_type": "code",
   "execution_count": 7,
   "metadata": {},
   "outputs": [
    {
     "name": "stdout",
     "output_type": "stream",
     "text": [
      "[ 3  6  9 12 15 18 21 24 27 30 33 36 39 42 45 48 51 54 57 60 63 66 69 72\n",
      " 75 78 81 84 87 90 93 96 99]\n",
      "[ 5 10 15 20 25 30 35 40 45 50 55 60 65 70 75 80 85 90 95]\n",
      "[ 3  6  9 12 15 18 21 24 27 30 33 36 39 42 45 48 51 54 57 60 63 66 69 72\n",
      " 75 78 81 84 87 90 93 96 99  5 10 20 25 35 40 50 55 65 70 80 85 95]\n",
      "2318\n"
     ]
    }
   ],
   "source": [
    "# Write a Python program (using numpy) to sum of all the multiples of 3 or 5 below 100.\n",
    "import numpy as np\n",
    "a3 = np.arange(3,100,3)\n",
    "a5 = np.arange(5,100,5)\n",
    "\n",
    "#print(a3)\n",
    "#print(a5)\n",
    "\n",
    "common_list = list(a3)\n",
    "\n",
    "# removing the common multiples in the two arrays\n",
    "for i in a5:\n",
    "    if i not in a3:\n",
    "        common_list.append(i)\n",
    "\n",
    "# converting the list of multiples into an array\n",
    "cl_array = np.array(common_list)\n",
    "#print(cl_array)\n",
    "\n",
    "# using numpy sum function to get the sum of all multiples of 3 or 5 below 100\n",
    "sum_of_multiples = np.sum(cl_array)\n",
    "print(sum_of_multiples)\n",
    "        \n"
   ]
  },
  {
   "cell_type": "code",
   "execution_count": 14,
   "metadata": {},
   "outputs": [
    {
     "name": "stdout",
     "output_type": "stream",
     "text": [
      "[array([1, 2, 3]), array([5, 6, 7]), array([1, 2, 1])]\n"
     ]
    }
   ],
   "source": [
    "# Write a Python program to convert a NumPy array into Python list structure. \n",
    "\n",
    "arr1 = np.array([[1,2,3], [5,6,7], [1,2,1]])\n",
    "np.ndim(arr1)\n",
    "\n",
    "type(arr1)\n",
    "\n",
    "l_arr1 = list(arr1)\n",
    "type(l_arr1)\n",
    "print(l_arr1)"
   ]
  },
  {
   "cell_type": "code",
   "execution_count": 80,
   "metadata": {},
   "outputs": [
    {
     "data": {
      "text/plain": [
       "array([[ 1,  2,  3,  9],\n",
       "       [ 2,  4,  6,  9],\n",
       "       [ 3,  6,  9,  9],\n",
       "       [ 4,  8, 12,  9]])"
      ]
     },
     "execution_count": 80,
     "metadata": {},
     "output_type": "execute_result"
    }
   ],
   "source": [
    "# Write a Python program to how to add an extra column to a numpy array.\n",
    "# https://thispointer.com/how-to-add-columns-to-numpy-array-in-python/\n",
    "\n",
    "arr1 = np.array([[1,2,3], [2,4,6], [3,6,9], [4,8,12]])\n",
    "arr3 = np.insert(arr1, 3, [9, 9, 9,9], axis = 1)\n",
    "arr3"
   ]
  },
  {
   "cell_type": "code",
   "execution_count": 90,
   "metadata": {},
   "outputs": [
    {
     "name": "stdout",
     "output_type": "stream",
     "text": [
      "Empty\n"
     ]
    }
   ],
   "source": [
    "# Write a Python program to check whether the numpy array is empty or not.\n",
    "arr1 = np.arange(10)\n",
    "arr2 = np.array([])\n",
    "\n",
    "if len(arr2) != 0:\n",
    "    print(\"Not empty\")\n",
    "else:\n",
    "    print(\"Empty\")"
   ]
  },
  {
   "cell_type": "code",
   "execution_count": 94,
   "metadata": {},
   "outputs": [],
   "source": [
    "# Write a Python program to normalize a 3x3 random matrix.\n",
    "arr1 = np.array([[1,2,3], [2,4,6], [3,6,9]])\n"
   ]
  },
  {
   "cell_type": "code",
   "execution_count": null,
   "metadata": {},
   "outputs": [],
   "source": [
    "# How to ignore all numpy warnings (not recommended)?"
   ]
  },
  {
   "cell_type": "code",
   "execution_count": 72,
   "metadata": {},
   "outputs": [
    {
     "name": "stdout",
     "output_type": "stream",
     "text": [
      "[[ 1  2  3]\n",
      " [ 2  4  6]\n",
      " [ 3  6  9]\n",
      " [ 4  8 12]]\n"
     ]
    },
    {
     "data": {
      "text/plain": [
       "array([[ 4,  8, 12],\n",
       "       [ 2,  4,  6],\n",
       "       [ 3,  6,  9],\n",
       "       [ 1,  2,  3]])"
      ]
     },
     "execution_count": 72,
     "metadata": {},
     "output_type": "execute_result"
    }
   ],
   "source": [
    "# How to swap two rows of an array?\n",
    "arr1 = np.array([[1,2,3], [2,4,6], [3,6,9], [4,8,12]])\n",
    "print(arr1)\n",
    "arr1[[0,3] ] = arr1[[3,0] ] \n",
    "arr1"
   ]
  },
  {
   "cell_type": "code",
   "execution_count": 19,
   "metadata": {},
   "outputs": [
    {
     "data": {
      "text/plain": [
       "array([0.08022659, 0.09337749, 0.12900649, 0.28158794, 0.45278314,\n",
       "       0.45917021, 0.48648731, 0.57545267, 0.65770823, 0.91323879])"
      ]
     },
     "execution_count": 19,
     "metadata": {},
     "output_type": "execute_result"
    }
   ],
   "source": [
    "# Python program to create a random vector of size 10 and sort it.\n",
    "rand_arr = np.random.rand(10)\n",
    "np.sort(rand_arr)"
   ]
  },
  {
   "cell_type": "code",
   "execution_count": 23,
   "metadata": {},
   "outputs": [
    {
     "name": "stdout",
     "output_type": "stream",
     "text": [
      "[0.93639013 0.64656825 0.78503264 0.14040873 0.87917394 0.27596025\n",
      " 0.65847694 0.07779479 0.06738152 0.94011059]\n",
      "[0.25460784 0.6471094  0.95226795 0.25854471 0.86400562 0.97326005\n",
      " 0.0257896  0.98480833 0.23082667 0.26210606]\n"
     ]
    }
   ],
   "source": [
    "# Write a Python program to check two random arrays are equal or not.\n",
    "rand_arr1 = np.random.rand(10)\n",
    "rand_arr2 = np.random.rand(10)\n",
    "# for i in rand_arr1:\n",
    "#     if rand_arr1[i] == rand_arr[i]:\n",
    "#         print(\"equal\")\n",
    "#     else:\n",
    "#         print(\"not equal\")\n",
    "    \n",
    "print(rand_arr1)\n",
    "print(rand_arr2)"
   ]
  },
  {
   "cell_type": "code",
   "execution_count": 28,
   "metadata": {},
   "outputs": [
    {
     "name": "stdout",
     "output_type": "stream",
     "text": [
      "[[10 10 10]\n",
      " [10 10 10]\n",
      " [10 10 10]]\n",
      "[[2 2 2]\n",
      " [2 2 2]\n",
      " [2 2 2]]\n",
      "\n",
      " arr1 + arr2: [[12 12 12]\n",
      " [12 12 12]\n",
      " [12 12 12]]\n",
      " arr1 - arr2: [[8 8 8]\n",
      " [8 8 8]\n",
      " [8 8 8]]\n",
      " arr1 * arr2:[[20 20 20]\n",
      " [20 20 20]\n",
      " [20 20 20]]\n",
      " arr1 / arr2: [[5. 5. 5.]\n",
      " [5. 5. 5.]\n",
      " [5. 5. 5.]]\n"
     ]
    }
   ],
   "source": [
    "# Write a Python program to add, subtract, multiply, divide arguments element-wise.\n",
    "arr1 = np.full((3,3), 10)\n",
    "arr2 = np.full((3,3), 2)\n",
    "\n",
    "print(arr1)\n",
    "print(arr2)\n",
    "print()\n",
    "\n",
    "add_array = np.add(arr1, arr2)\n",
    "subtract_array = np.subtract(arr1, arr2)\n",
    "multiply_array = np.multiply(arr1, arr2)\n",
    "divide_array  = np.divide(arr1, arr2)\n",
    "\n",
    "print(f' arr1 + arr2: {add_array}')\n",
    "print(f' arr1 - arr2: {subtract_array}')\n",
    "print(f' arr1 * arr2:{multiply_array}')\n",
    "print(f' arr1 / arr2: {divide_array}')\n",
    "\n"
   ]
  },
  {
   "cell_type": "code",
   "execution_count": 63,
   "metadata": {},
   "outputs": [
    {
     "name": "stdout",
     "output_type": "stream",
     "text": [
      "yesterday: 2022-06-22\n",
      "today: 2022-06-23\n",
      "tomorrow: 2022-06-24\n"
     ]
    }
   ],
   "source": [
    "# Write a Python program to get the dates of yesterday, today and tomorrow.\n",
    "\n",
    "# In NumPy with the help of NumPy.datetime64(‘today’, ‘D’), we will find today date \n",
    "# and if we want some date before today then we will subtract the no-of-date with the \n",
    "# help of np.timedelta64() from today. And if we want some date after today then we will \n",
    "# add the no of date with the help of np.timedelta64() from today. \n",
    "# For yesterday, we will subtract 1 date, for tomorrow we will add 1 date.\n",
    "\n",
    "today = np.datetime64('today')\n",
    "tomorrow = np.datetime64('today') + np.timedelta64(1)\n",
    "yesterday = np.datetime64('today') - np.timedelta64(1)\n",
    "\n",
    "print(f'yesterday: {yesterday}')\n",
    "print(f'today: {today}')\n",
    "print(f'tomorrow: {tomorrow}')\n",
    "\n",
    "\n",
    "#help(np.datetime64())"
   ]
  }
 ],
 "metadata": {
  "kernelspec": {
   "display_name": "Python 3",
   "language": "python",
   "name": "python3"
  },
  "language_info": {
   "codemirror_mode": {
    "name": "ipython",
    "version": 3
   },
   "file_extension": ".py",
   "mimetype": "text/x-python",
   "name": "python",
   "nbconvert_exporter": "python",
   "pygments_lexer": "ipython3",
   "version": "3.8.5"
  }
 },
 "nbformat": 4,
 "nbformat_minor": 5
}
